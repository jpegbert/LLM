{
 "cells": [
  {
   "cell_type": "markdown",
   "id": "a2a75ac9-5220-4751-beaf-5a0acff5b05a",
   "metadata": {},
   "source": [
    "# 🔆 4-bit NormalFloat量化 🔆"
   ]
  },
  {
   "cell_type": "markdown",
   "id": "b4835983-fe31-41dc-9a52-ac6594ea6b5b",
   "metadata": {},
   "source": [
    "- 我们有一组数据： \\[2.3, -1.5, 0.7, -3.2, 1.8, -0.9, 0.0, 2.2\\]\n",
    "- 目标是将这些数据进行4-bit量化。"
   ]
  },
  {
   "cell_type": "markdown",
   "id": "293fa8f5-ac04-4c4c-87e6-ca89a9d45f6d",
   "metadata": {},
   "source": [
    "## 步骤一：数据标准化"
   ]
  },
  {
   "cell_type": "markdown",
   "id": "017e3533-3c6d-4589-8af4-eea4207f1587",
   "metadata": {},
   "source": [
    "首先，我们将数据标准化到 \\([-1, 1]\\) 区间，通常使用以下公式进行标准化：\n",
    "\n",
    "$x' = \\frac{2 \\cdot (x - x_{\\text{min}})}{x_{\\text{max}} - x_{\\text{min}}} - 1$\n",
    "\n",
    "其中：\n",
    "\n",
    "- $x$ 是原始数据。\n",
    "- $x_{\\text{min}}$ 是数据的最小值。\n",
    "- $x_{\\text{max}}$ 是数据的最大值。\n",
    "- $x'$ 是标准化后的数据。\n",
    "\n",
    "**(1) 计算数据的最小值和最大值**：\n",
    "\n",
    "给定数据： \\[2.3, -1.5, 0.7, -3.2, 1.8, -0.9, 0.0, 2.2\\]\n",
    "\n",
    "- 最小值 $x_{\\text{min}} = -3.2$\n",
    "- 最大值 $x_{\\text{max}} = 2.3$\n",
    "\n",
    "\n",
    "**(2) 应用标准化公式**：\n",
    "\n",
    "将每个数据点 $x$ 应用公式：\n",
    "\n",
    "$x' = \\frac{2 \\cdot (x - x_{\\text{min}})}{x_{\\text{max}} - x_{\\text{min}}} - 1$\n",
    "\n",
    "具体计算如下：\n",
    "\n",
    "- 对于 $x = 2.3$ ：\n",
    "\n",
    "  $\n",
    "  x' = \\frac{2 \\cdot (2.3 - (-3.2))}{2.3 - (-3.2)} - 1 = \\frac{2 \\cdot 5.5}{5.5} - 1 = 2 - 1 = 1.0\n",
    "  $​\n",
    "\n",
    "\n",
    "\n",
    "**(3) 标准化后的数据：**\n",
    "\n",
    "$\n",
    "[1.0, -0.382, 0.418, -1.0, 0.818, -0.164, 0.164, 0.964]\n",
    "$\n",
    "\n"
   ]
  },
  {
   "cell_type": "code",
   "execution_count": 1,
   "id": "12979858-53b0-4a7a-95f4-87e8c7f6e6ca",
   "metadata": {},
   "outputs": [
    {
     "name": "stdout",
     "output_type": "stream",
     "text": [
      "最小值： -3.2\n",
      "最大值： 2.3\n",
      "\n",
      "\n",
      "标准化后的数据样本：\n",
      "\n",
      "[1.0, -0.3818181818181817, 0.4181818181818182, -1.0, 0.8181818181818181, -0.16363636363636358, 0.1636363636363638, 0.9636363636363638]\n"
     ]
    }
   ],
   "source": [
    "x =  [2.3, -1.5, 0.7, -3.2, 1.8, -0.9, 0.0, 2.2]\n",
    "\n",
    "x_min = min(x)\n",
    "print(\"最小值：\", x_min)\n",
    "\n",
    "x_max = max(x)\n",
    "print(\"最大值：\", x_max)\n",
    "\n",
    "x_new = [2*(item - x_min) / (x_max - x_min)-1 for item in x]\n",
    "\n",
    "print(\"\\n\")\n",
    "print(\"标准化后的数据样本：\\n\")\n",
    "print(x_new)"
   ]
  },
  {
   "cell_type": "code",
   "execution_count": null,
   "id": "9f03feae-001f-4b76-abb2-575d6f414e86",
   "metadata": {},
   "outputs": [],
   "source": []
  },
  {
   "cell_type": "markdown",
   "id": "863ddbdb-6be3-4425-b852-dd1152788021",
   "metadata": {},
   "source": [
    "## 步骤二：计算分位数"
   ]
  },
  {
   "cell_type": "markdown",
   "id": "a001e453-926a-4b20-a38e-97b41e77ad72",
   "metadata": {},
   "source": [
    "在本例中，我们将标准化数据到 $[-1, 1]$ 区间后，需要计算用于量化的分位数。"
   ]
  },
  {
   "cell_type": "markdown",
   "id": "d94c43e1-6a40-4308-b16c-7fb637e64644",
   "metadata": {},
   "source": [
    "我们需要计算 $2^4 + 1 = 17$ 个分位数。\n",
    "\n",
    "假设我们使用标准正态分布 $N(0,1)$ 的分位数来进行计算。具体的分位数计算如下（标准正态分布的分位数可以通过查表或函数计算得出）：\n",
    "\n",
    "$Q_X \\left( \\frac{i}{17} \\right)$\n",
    "\n",
    "对于 $i = 1, 2, 3, \\ldots, 17$ ，我们得到一组分位数。"
   ]
  },
  {
   "cell_type": "code",
   "execution_count": 2,
   "id": "44f07d3f-5d72-4c12-bb7a-3487a40124c5",
   "metadata": {},
   "outputs": [
    {
     "name": "stdout",
     "output_type": "stream",
     "text": [
      "[0.05555555555555555, 0.1111111111111111, 0.16666666666666666, 0.2222222222222222, 0.2777777777777778, 0.3333333333333333, 0.3888888888888889, 0.4444444444444444, 0.5, 0.5555555555555556, 0.6111111111111112, 0.6666666666666666, 0.7222222222222222, 0.7777777777777778, 0.8333333333333334, 0.8888888888888888, 0.9444444444444444]\n"
     ]
    }
   ],
   "source": [
    "import scipy.stats as stats\n",
    "\n",
    "# 定义要计算的分位数\n",
    "n = 17\n",
    "\n",
    "percentiles = [i / (n+1) for i in range(1, n+1)]\n",
    "\n",
    "# 分位数\n",
    "print(percentiles)"
   ]
  },
  {
   "cell_type": "code",
   "execution_count": 3,
   "id": "78da3101-abaa-4a64-823e-3c3a668770c0",
   "metadata": {},
   "outputs": [
    {
     "name": "stdout",
     "output_type": "stream",
     "text": [
      "[-1.59321882 -1.22064035 -0.96742157 -0.76470967 -0.5894558  -0.4307273\n",
      " -0.28221615 -0.1397103   0.          0.1397103   0.28221615  0.4307273\n",
      "  0.5894558   0.76470967  0.96742157  1.22064035  1.59321882]\n"
     ]
    }
   ],
   "source": [
    "# 计算标准正态分布的分位数\n",
    "quantiles = stats.norm.ppf(percentiles)\n",
    "\n",
    "print(quantiles)"
   ]
  },
  {
   "cell_type": "code",
   "execution_count": null,
   "id": "4fe68f04-ee47-4016-a9bd-55959076fb67",
   "metadata": {},
   "outputs": [],
   "source": []
  },
  {
   "cell_type": "markdown",
   "id": "9bab8b6c-1de5-44ae-a243-32e34f8338c4",
   "metadata": {},
   "source": [
    "## 步骤三：计算量化值"
   ]
  },
  {
   "cell_type": "markdown",
   "id": "666345e1-3394-41ce-9e37-a0db092f1402",
   "metadata": {},
   "source": [
    "接下来，我们使用公式计算每个量化值：\n",
    "\n",
    "$\n",
    "q_i = \\frac{1}{2} \\left( Q_X \\left( \\frac{i}{17} \\right) + Q_X \\left( \\frac{i+1}{17} \\right) \\right)\n",
    "$\n",
    "\n",
    "我们将这些分位数带入公式中，计算每个 $q_i$ ：\n",
    "\n",
    "例如，对于 $i = 0$ ：\n",
    "\n",
    "$\n",
    "q_0 = \\frac{1}{2} \\left( Q_X \\left( 0 \\right) + Q_X \\left( \\frac{1}{17} \\right) \\right) = \\frac{1}{2} \\left( -1.645 + -1.281 \\right) = -1.463\n",
    "$\n",
    "\n",
    "重复这个步骤直到 \\(i = 15\\)，我们得到一组量化值：\n"
   ]
  },
  {
   "cell_type": "code",
   "execution_count": 4,
   "id": "b6f53ce8-15dd-4d37-aa57-a2c0168ac046",
   "metadata": {},
   "outputs": [
    {
     "name": "stdout",
     "output_type": "stream",
     "text": [
      "[-1.4069295834352005, -1.0940309574745255, -0.8660656199440442, -0.6770827358180826, -0.510091548572618, -0.35647172317898285, -0.21096322297218512, -0.06985514944093106, 0.06985514944093106, 0.21096322297218517, 0.35647172317898285, 0.5100915485726178, 0.6770827358180826, 0.8660656199440442, 1.0940309574745255, 1.4069295834351998]\n"
     ]
    }
   ],
   "source": [
    "# 计算量化值\n",
    "\n",
    "quantized_values = []\n",
    "\n",
    "for i in range(len(quantiles) - 1):\n",
    "    q_i = 0.5 * (quantiles[i] + quantiles[i+1])\n",
    "    quantized_values.append(q_i)\n",
    "\n",
    "print(quantized_values)"
   ]
  },
  {
   "cell_type": "code",
   "execution_count": null,
   "id": "3cda247f-5541-4101-8274-143f0d3784a7",
   "metadata": {},
   "outputs": [],
   "source": []
  },
  {
   "cell_type": "markdown",
   "id": "50015e16-de20-44bd-a0d9-a0d41c40cbf7",
   "metadata": {},
   "source": [
    "## 步骤四：数据映射到量化值"
   ]
  },
  {
   "cell_type": "markdown",
   "id": "f0a428dd-4260-4c48-82a0-296a7dbef1f9",
   "metadata": {},
   "source": [
    "将标准化后的数据映射到最近的量化值："
   ]
  },
  {
   "cell_type": "code",
   "execution_count": 5,
   "id": "f379c5ec-19a7-40fa-b68b-0e94807a2ea3",
   "metadata": {},
   "outputs": [],
   "source": [
    "import numpy as np\n",
    "\n",
    "def get_new_value(quanti_values, st_v):\n",
    "    stand_value = np.asarray(quanti_values)\n",
    "    idx = (np.abs(stand_value - st_v)).argmin()\n",
    "    return stand_value[idx]"
   ]
  },
  {
   "cell_type": "code",
   "execution_count": 6,
   "id": "911e0041-9a49-402f-bf02-d846805329ce",
   "metadata": {},
   "outputs": [
    {
     "name": "stdout",
     "output_type": "stream",
     "text": [
      "[1.0940309574745255, -0.35647172317898285, 0.35647172317898285, -1.0940309574745255, 0.8660656199440442, -0.21096322297218512, 0.21096322297218517, 0.8660656199440442]\n"
     ]
    }
   ],
   "source": [
    "# x_new 是标准化之后的数据\n",
    "\n",
    "quan_data = [get_new_value(quantized_values, val) for val in x_new]\n",
    "\n",
    "print(quan_data)"
   ]
  },
  {
   "cell_type": "code",
   "execution_count": null,
   "id": "227edaf3-defd-4852-80b8-f06b45bf2011",
   "metadata": {},
   "outputs": [],
   "source": []
  },
  {
   "cell_type": "markdown",
   "id": "b0f0abf6-2b8a-421b-883c-47aeeb00613d",
   "metadata": {},
   "source": [
    "## 对比三组数据"
   ]
  },
  {
   "cell_type": "code",
   "execution_count": 7,
   "id": "8f6c3e06-d674-461a-bc6d-cb9033aa2b45",
   "metadata": {},
   "outputs": [
    {
     "name": "stdout",
     "output_type": "stream",
     "text": [
      "原始数据：\n",
      " [2.3, -1.5, 0.7, -3.2, 1.8, -0.9, 0.0, 2.2]\n"
     ]
    }
   ],
   "source": [
    "print(\"原始数据：\\n\", x)"
   ]
  },
  {
   "cell_type": "code",
   "execution_count": 8,
   "id": "1688d5d2-686e-4185-b34a-8556552404b0",
   "metadata": {},
   "outputs": [
    {
     "name": "stdout",
     "output_type": "stream",
     "text": [
      "原始数据在标准化之后的数据：\n",
      " [1.0, -0.3818181818181817, 0.4181818181818182, -1.0, 0.8181818181818181, -0.16363636363636358, 0.1636363636363638, 0.9636363636363638]\n"
     ]
    }
   ],
   "source": [
    "print(\"原始数据在标准化之后的数据：\\n\", x_new)"
   ]
  },
  {
   "cell_type": "code",
   "execution_count": 9,
   "id": "82e912f8-115b-4285-a843-c4380288c125",
   "metadata": {},
   "outputs": [
    {
     "name": "stdout",
     "output_type": "stream",
     "text": [
      "量化后的数据：\n",
      " [1.0940309574745255, -0.35647172317898285, 0.35647172317898285, -1.0940309574745255, 0.8660656199440442, -0.21096322297218512, 0.21096322297218517, 0.8660656199440442]\n"
     ]
    }
   ],
   "source": [
    "print(\"量化后的数据：\\n\", quan_data)"
   ]
  },
  {
   "cell_type": "code",
   "execution_count": null,
   "id": "f8676cff-fe70-44b9-a0ad-5907bd643491",
   "metadata": {},
   "outputs": [],
   "source": []
  },
  {
   "cell_type": "markdown",
   "id": "80cf6ff1-c59d-4d2c-91b7-32987bfac9dd",
   "metadata": {},
   "source": [
    "\n",
    "**为什么用 4-bit normalfloat 表示后，精度误差那么大？**  \n",
    "\n",
    "- 标准化误差：将数据缩放到 [-1, 1] 区间，导致原始数据在数值上发生了变化。  \n",
    "- 分位数误差：标准正态分布的分位数在 [-1, 1] 区间内的离散化导致数据进一步误差。  \n",
    "- 低精度表示误差：4-bit 量化只能选择 16 个离散值之一，导致量化误差较大。  "
   ]
  },
  {
   "cell_type": "code",
   "execution_count": null,
   "id": "38eb0a50-ab58-45c7-9f64-eca4513ec0b1",
   "metadata": {},
   "outputs": [],
   "source": []
  },
  {
   "cell_type": "code",
   "execution_count": null,
   "id": "f3d72113-14d1-4545-aefc-1cf32c733fef",
   "metadata": {},
   "outputs": [],
   "source": []
  },
  {
   "cell_type": "markdown",
   "id": "ab6e05c4-c1c3-42b1-abfa-6bf12a86fb78",
   "metadata": {},
   "source": [
    "## 4-Bit NormalFLoat 的优势"
   ]
  },
  {
   "cell_type": "markdown",
   "id": "665b762e-48f8-4a63-934a-584ee79cc12b",
   "metadata": {},
   "source": [
    "4-bit NormalFloat量化算法结合了分位数量化和标准化技术，具有以下主要优势：\n",
    "\n",
    "1️⃣ **高效存储**\n",
    "- **存储效率**：4-bit的表示方式大大减少了存储空间的需求。相比于传统的32-bit或16-bit浮点数，4-bit浮点数能显著节省存储空间，从而降低存储成本。\n",
    "- **压缩比高**：通过量化，数据可以被压缩到原始大小的1/8，从而提高了存储和传输的效率。\n",
    "\n",
    "\n",
    "  \n",
    "**<font color=red>进一步讲解：</font>**  \n",
    "32-bit和16-bit浮点数\n",
    "- **32-bit浮点数**：每个数值占用32位（4字节）的存储空间。\n",
    "- **16-bit浮点数**：每个数值占用16位（2字节）的存储空间。\n",
    "\n",
    "- **4-bit浮点数**：每个数值仅占用4位（0.5字节）的存储空间。\n",
    "\n",
    "\n",
    "📣 **比较4-bit浮点数与32-bit浮点数**\n",
    "   - 32-bit浮点数占用4字节\n",
    "   - 4-bit浮点数占用0.5字节\n",
    "\n",
    "   压缩比计算：\n",
    "   $\n",
    "   \\text{压缩比} = \\frac{\\text{4-bit浮点数的大小}}{\\text{32-bit浮点数的大小}} = \\frac{0.5}{4} = \\frac{1}{8}\n",
    "   $\n",
    "\n",
    "因此，使用4-bit浮点数可以将数据压缩到原始大小的1/8。\n",
    "\n",
    "📣 **比较4-bit浮点数与16-bit浮点数**\n",
    "   - 16-bit浮点数占用2字节\n",
    "   - 4-bit浮点数占用0.5字节\n",
    "\n",
    "   压缩比计算：\n",
    "   $\n",
    "   \\text{压缩比} = \\frac{\\text{4-bit浮点数的大小}}{\\text{16-bit浮点数的大小}} = \\frac{0.5}{2} = \\frac{1}{4}\n",
    "   $\n",
    "\n",
    "   使用4-bit浮点数可以将数据压缩到原始大小的1/4。\n",
    "\n",
    "\n",
    "**存储效率**：\n",
    "   - 使用4-bit浮点数相比于32-bit浮点数，存储空间需求减少了8倍。\n",
    "   - 使用4-bit浮点数相比于16-bit浮点数，存储空间需求减少了4倍。  \n",
    "\n",
    "因此，4-bit浮点数在存储和传输数据时能够显著提高效率和降低成本，正是因为它极大地减少了存储空间需求和数据量。"
   ]
  },
  {
   "cell_type": "code",
   "execution_count": null,
   "id": "743870e0-8fbe-47e3-a28b-ef236004279c",
   "metadata": {},
   "outputs": [],
   "source": []
  },
  {
   "cell_type": "markdown",
   "id": "30a080bc-d42d-414d-ac78-49be6c4135e5",
   "metadata": {},
   "source": [
    "2️⃣ **计算效率**\n",
    "- **计算成本低**：在计算过程中，处理4-bit数据比处理高位数数据所需的计算资源更少。这意味着可以在更短的时间内完成计算任务。\n",
    "- **加速模型推理**：在深度学习模型推理阶段，使用量化后的权重和激活值可以显著加速计算过程，特别是在资源有限的嵌入式设备和移动设备上。\n",
    "\n",
    "\n",
    "4-bit NormalFloat量化算法通过结合分位数量化和标准化技术，在保持数据精度的同时，显著提高了存储和计算效率。这种方法特别适用于需要高效存储和快速计算的场景。"
   ]
  },
  {
   "cell_type": "code",
   "execution_count": null,
   "id": "aa02452e-c54f-41e9-881f-f5c51fe0237d",
   "metadata": {},
   "outputs": [],
   "source": []
  },
  {
   "cell_type": "code",
   "execution_count": null,
   "id": "7ca5291e-7b39-4b14-aa7a-31b8796dfe9c",
   "metadata": {},
   "outputs": [],
   "source": []
  },
  {
   "cell_type": "markdown",
   "id": "decf0743-4065-4cdf-9838-44014206f12e",
   "metadata": {},
   "source": [
    "# 🔆 双重量化 🔆"
   ]
  },
  {
   "cell_type": "markdown",
   "id": "0b014136-501c-42aa-886a-4ded013e8ed2",
   "metadata": {},
   "source": [
    "使用8-bit浮点数对初始量化的结果进行进一步压缩，这一步的目标是通过减少位宽来进一步减少存储空间，同时尽量保持数据的准确性。"
   ]
  },
  {
   "cell_type": "code",
   "execution_count": 16,
   "id": "37cdb2bb-eced-46c6-b777-33af155ce361",
   "metadata": {},
   "outputs": [
    {
     "name": "stdout",
     "output_type": "stream",
     "text": [
      "[1.0940309574745255, -0.35647172317898285, 0.35647172317898285, -1.0940309574745255, 0.8660656199440442, -0.21096322297218512, 0.21096322297218517, 0.8660656199440442]\n"
     ]
    }
   ],
   "source": [
    "# 上一步的量化结果\n",
    "\n",
    "print(quan_data)"
   ]
  },
  {
   "cell_type": "code",
   "execution_count": 14,
   "id": "b0bcd612-2ec3-480e-9eda-8197081f446b",
   "metadata": {},
   "outputs": [
    {
     "name": "stdout",
     "output_type": "stream",
     "text": [
      "第1块：\n",
      "\n",
      "[1.0940309574745255, -0.35647172317898285, 0.35647172317898285, -1.0940309574745255]\n",
      "\n",
      "\n",
      "第2块：\n",
      "\n",
      "[0.8660656199440442, -0.21096322297218512, 0.21096322297218517, 0.8660656199440442]\n"
     ]
    }
   ],
   "source": [
    "# ① 将数据分成块，计算每块的均值。例如，块大小为4\n",
    "\n",
    "size = 4\n",
    "\n",
    "# 分块\n",
    "blocks = [quan_data[i : i+size] for i in range(0, len(quan_data), size)]\n",
    "\n",
    "print(\"第1块：\\n\")\n",
    "print(blocks[0])\n",
    "\n",
    "print(\"\\n\")\n",
    "print(\"第2块：\\n\")\n",
    "print(blocks[1])"
   ]
  },
  {
   "cell_type": "code",
   "execution_count": 15,
   "id": "9a68b09b-b917-424f-ba7e-7d597e5180b3",
   "metadata": {},
   "outputs": [
    {
     "name": "stdout",
     "output_type": "stream",
     "text": [
      "[0.0, 0.4330328099720221]\n"
     ]
    }
   ],
   "source": [
    "# 计算块均值\n",
    "block_means = [np.mean(block) for block in blocks]\n",
    "\n",
    "print(block_means)"
   ]
  },
  {
   "cell_type": "code",
   "execution_count": 18,
   "id": "5c11a009-810e-4fcc-89d0-20b95a1e2126",
   "metadata": {},
   "outputs": [
    {
     "name": "stdout",
     "output_type": "stream",
     "text": [
      "二次量化后的数据：\n",
      "\n",
      "[1.0940309574745255, -0.35647172317898285, 0.35647172317898285, -1.0940309574745255, 0.4330328099720221, -0.6439960329442072, -0.22206958699983692, 0.4330328099720221]\n"
     ]
    }
   ],
   "source": [
    "# 将每块数据减去其均值\n",
    "# 在初始量化的基础上进一步压缩，通过减去块均值来集中数据，使用更小的位宽进行存储。\n",
    "\n",
    "second_quantized_data = []\n",
    "\n",
    "for i , block in enumerate(blocks):\n",
    "    mean = block_means[i]\n",
    "    second_quantized_data.extend([val - mean for val in block])\n",
    "\n",
    "print(\"二次量化后的数据：\\n\")\n",
    "print(second_quantized_data)"
   ]
  },
  {
   "cell_type": "code",
   "execution_count": null,
   "id": "1fe5f09f-06b9-4962-8972-e7c1ed19b6eb",
   "metadata": {},
   "outputs": [],
   "source": []
  }
 ],
 "metadata": {
  "kernelspec": {
   "display_name": "Python 3 (ipykernel)",
   "language": "python",
   "name": "python3"
  },
  "language_info": {
   "codemirror_mode": {
    "name": "ipython",
    "version": 3
   },
   "file_extension": ".py",
   "mimetype": "text/x-python",
   "name": "python",
   "nbconvert_exporter": "python",
   "pygments_lexer": "ipython3",
   "version": "3.8.10"
  }
 },
 "nbformat": 4,
 "nbformat_minor": 5
}
